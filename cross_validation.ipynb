{
  "nbformat": 4,
  "nbformat_minor": 0,
  "metadata": {
    "colab": {
      "name": "cross_validation.ipynb",
      "version": "0.3.2",
      "provenance": [],
      "include_colab_link": true
    },
    "kernelspec": {
      "name": "python3",
      "display_name": "Python 3"
    }
  },
  "cells": [
    {
      "cell_type": "markdown",
      "metadata": {
        "id": "view-in-github",
        "colab_type": "text"
      },
      "source": [
        "<a href=\"https://colab.research.google.com/github/KimJinSang/TensorflowStudy/blob/master/cross_validation.ipynb\" target=\"_parent\"><img src=\"https://colab.research.google.com/assets/colab-badge.svg\" alt=\"Open In Colab\"/></a>"
      ]
    },
    {
      "metadata": {
        "id": "3TCqu37HDRlP",
        "colab_type": "code",
        "colab": {}
      },
      "cell_type": "code",
      "source": [
        "import pandas as pd\n",
        "from sklearn.utils.testing import all_estimators\n",
        "from sklearn.model_selection import KFold\n",
        "import warnings\n",
        "from sklearn.model_selection import cross_val_score"
      ],
      "execution_count": 0,
      "outputs": []
    },
    {
      "metadata": {
        "id": "ma_oxYKNDkjI",
        "colab_type": "code",
        "colab": {}
      },
      "cell_type": "code",
      "source": [
        "#붓꽃 데이터 읽어 들이기\n",
        "iris_data = pd.read_csv(\"iris.csv\", encoding=\"utf-8\")"
      ],
      "execution_count": 0,
      "outputs": []
    },
    {
      "metadata": {
        "id": "lglfFV4oDtza",
        "colab_type": "code",
        "colab": {}
      },
      "cell_type": "code",
      "source": [
        "#붓꽃 데이터를 레이블과 입력 데이터로 분리하기\n",
        "y = iris_data.loc[:,\"Name\"]\n",
        "x = iris_data.loc[:,[\"SepalLength\", \"SepalWidth\", \"PetalLength\", \"PetalWidth\"]]"
      ],
      "execution_count": 0,
      "outputs": []
    },
    {
      "metadata": {
        "id": "rTel2tk9D8y2",
        "colab_type": "code",
        "colab": {}
      },
      "cell_type": "code",
      "source": [
        "#classifier 알고리즘 모두 추출하기\n",
        "warnings.filterwarnings('ignore')\n",
        "allAlgorithms = all_estimators(type_filter=\"classifier\")"
      ],
      "execution_count": 0,
      "outputs": []
    },
    {
      "metadata": {
        "id": "v0y_0cHZEiLq",
        "colab_type": "code",
        "outputId": "ff939f7f-31c0-438a-c8bf-ddf456db0918",
        "colab": {
          "base_uri": "https://localhost:8080/",
          "height": 1108
        }
      },
      "cell_type": "code",
      "source": [
        "#K-분할 크로스 밸리데이션 전용 객체\n",
        "kfold_cv = KFold(n_splits=5, shuffle=True)\n",
        "\n",
        "for(name, algorithm) in allAlgorithms:\n",
        "  #각 알고리즘 객체 생성하기\n",
        "  clf = algorithm()\n",
        "  \n",
        "  #score 메서드를 가진 클래스를 대상으로 하기\n",
        "  if hasattr(clf,\"score\"):\n",
        "    #크로스 밸리데이션\n",
        "    scores = cross_val_score(clf, x, y, cv=kfold_cv)\n",
        "    print(name, \"의 정답률 = \")\n",
        "    print(scores)"
      ],
      "execution_count": 0,
      "outputs": [
        {
          "output_type": "stream",
          "text": [
            "AdaBoostClassifier 의 정답률 = \n",
            "[0.9        0.93333333 0.9        0.9        0.96666667]\n",
            "BaggingClassifier 의 정답률 = \n",
            "[1.         0.9        0.93333333 0.96666667 0.93333333]\n",
            "BernoulliNB 의 정답률 = \n",
            "[0.3        0.26666667 0.23333333 0.3        0.3       ]\n",
            "CalibratedClassifierCV 의 정답률 = \n",
            "[0.96666667 0.93333333 1.         0.86666667 0.96666667]\n",
            "ComplementNB 의 정답률 = \n",
            "[0.63333333 0.73333333 0.6        0.63333333 0.73333333]\n",
            "DecisionTreeClassifier 의 정답률 = \n",
            "[0.9        0.96666667 0.93333333 0.9        0.9       ]\n",
            "ExtraTreeClassifier 의 정답률 = \n",
            "[0.86666667 0.96666667 0.93333333 1.         1.        ]\n",
            "ExtraTreesClassifier 의 정답률 = \n",
            "[0.96666667 0.96666667 0.9        0.93333333 0.96666667]\n",
            "GaussianNB 의 정답률 = \n",
            "[1.         0.96666667 0.96666667 0.93333333 0.93333333]\n",
            "GaussianProcessClassifier 의 정답률 = \n",
            "[0.96666667 1.         0.96666667 0.93333333 1.        ]\n",
            "GradientBoostingClassifier 의 정답률 = \n",
            "[1.         0.93333333 0.93333333 0.93333333 0.96666667]\n",
            "KNeighborsClassifier 의 정답률 = \n",
            "[1.         0.9        0.96666667 1.         0.96666667]\n",
            "LabelPropagation 의 정답률 = \n",
            "[0.93333333 0.93333333 1.         1.         0.9       ]\n",
            "LabelSpreading 의 정답률 = \n",
            "[1.         0.96666667 1.         0.93333333 0.93333333]\n",
            "LinearDiscriminantAnalysis 의 정답률 = \n",
            "[1.         1.         0.93333333 1.         0.96666667]\n",
            "LinearSVC 의 정답률 = \n",
            "[1.         0.96666667 0.96666667 0.96666667 0.86666667]\n",
            "LogisticRegression 의 정답률 = \n",
            "[0.93333333 0.96666667 1.         0.93333333 0.96666667]\n",
            "LogisticRegressionCV 의 정답률 = \n",
            "[0.86666667 0.9        1.         1.         0.93333333]\n",
            "MLPClassifier 의 정답률 = \n",
            "[0.96666667 1.         0.93333333 0.96666667 1.        ]\n",
            "MultinomialNB 의 정답률 = \n",
            "[0.8        0.96666667 0.96666667 0.9        0.96666667]\n",
            "NearestCentroid 의 정답률 = \n",
            "[0.93333333 0.93333333 0.9        0.96666667 0.9       ]\n",
            "NuSVC 의 정답률 = \n",
            "[0.93333333 0.9        0.96666667 0.96666667 0.9       ]\n",
            "PassiveAggressiveClassifier 의 정답률 = \n",
            "[0.76666667 0.8        0.8        0.73333333 0.63333333]\n",
            "Perceptron 의 정답률 = \n",
            "[0.36666667 0.63333333 0.63333333 0.73333333 0.36666667]\n",
            "QuadraticDiscriminantAnalysis 의 정답률 = \n",
            "[1.         0.96666667 0.96666667 0.96666667 1.        ]\n",
            "RadiusNeighborsClassifier 의 정답률 = \n",
            "[0.96666667 0.9        1.         0.96666667 0.86666667]\n",
            "RandomForestClassifier 의 정답률 = \n",
            "[0.96666667 0.9        0.93333333 1.         0.93333333]\n",
            "RidgeClassifier 의 정답률 = \n",
            "[0.93333333 0.93333333 0.8        0.76666667 0.8       ]\n",
            "RidgeClassifierCV 의 정답률 = \n",
            "[0.86666667 0.83333333 0.76666667 0.86666667 0.83333333]\n",
            "SGDClassifier 의 정답률 = \n",
            "[0.93333333 0.63333333 0.83333333 0.66666667 0.4       ]\n",
            "SVC 의 정답률 = \n",
            "[0.96666667 0.93333333 0.96666667 0.96666667 1.        ]\n"
          ],
          "name": "stdout"
        }
      ]
    },
    {
      "metadata": {
        "id": "WMoapqE8FE1s",
        "colab_type": "code",
        "colab": {}
      },
      "cell_type": "code",
      "source": [
        ""
      ],
      "execution_count": 0,
      "outputs": []
    }
  ]
}