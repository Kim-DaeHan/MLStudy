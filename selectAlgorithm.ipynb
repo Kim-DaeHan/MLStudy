{
  "nbformat": 4,
  "nbformat_minor": 0,
  "metadata": {
    "colab": {
      "name": "selectAlgorithm.ipynb",
      "version": "0.3.2",
      "provenance": [],
      "collapsed_sections": [],
      "include_colab_link": true
    },
    "kernelspec": {
      "name": "python3",
      "display_name": "Python 3"
    }
  },
  "cells": [
    {
      "cell_type": "markdown",
      "metadata": {
        "id": "view-in-github",
        "colab_type": "text"
      },
      "source": [
        "<a href=\"https://colab.research.google.com/github/KimJinSang/MLStudy/blob/master/selectAlgorithm.ipynb\" target=\"_parent\"><img src=\"https://colab.research.google.com/assets/colab-badge.svg\" alt=\"Open In Colab\"/></a>"
      ]
    },
    {
      "metadata": {
        "id": "fzFDFN1lAJWX",
        "colab_type": "code",
        "colab": {}
      },
      "cell_type": "code",
      "source": [
        "import pandas as pd\n",
        "from sklearn.model_selection import train_test_split\n",
        "from sklearn.metrics import accuracy_score\n",
        "import warnings\n",
        "from sklearn.utils.testing import all_estimators"
      ],
      "execution_count": 0,
      "outputs": []
    },
    {
      "metadata": {
        "id": "W_JbAqiFAsUh",
        "colab_type": "code",
        "colab": {}
      },
      "cell_type": "code",
      "source": [
        "#붓꽃 데이터 읽어 들이기\n",
        "iris_data = pd.read_csv(\"iris.csv\", encoding=\"utf-8\")"
      ],
      "execution_count": 0,
      "outputs": []
    },
    {
      "metadata": {
        "id": "RNGIhnfIBSdL",
        "colab_type": "code",
        "colab": {}
      },
      "cell_type": "code",
      "source": [
        "#붓꽃 데이터를 레이블과 입력 데이터로 분리하기\n",
        "y = iris_data.loc[:,\"Name\"]\n",
        "x = iris_data.loc[:,[\"SepalLength\", \"SepalWidth\", \"PetalLength\", \"PetalWidth\"]]"
      ],
      "execution_count": 0,
      "outputs": []
    },
    {
      "metadata": {
        "id": "ID6IQogFBkk8",
        "colab_type": "code",
        "colab": {}
      },
      "cell_type": "code",
      "source": [
        "#학습 전용과 테스트 전용 분리하기\n",
        "x_train, x_test, y_train, y_test = train_test_split(x,y, test_size = 0.2, train_size = 0.8, shuffle = True)"
      ],
      "execution_count": 0,
      "outputs": []
    },
    {
      "metadata": {
        "id": "U20te0daBzHq",
        "colab_type": "code",
        "outputId": "4c838849-e2de-4e1d-a39c-1f72a1e80e0c",
        "colab": {
          "base_uri": "https://localhost:8080/",
          "height": 562
        }
      },
      "cell_type": "code",
      "source": [
        "#classifier 알고리즘 모두 추출하기\n",
        "warnings.filterwarnings('ignore')\n",
        "allAlgorithms = all_estimators(type_filter=\"classifier\")\n",
        "\n",
        "for(name, algorithm) in allAlgorithms:\n",
        "  #각 알고리즘 객체 생성하기\n",
        "  clf = algorithm()\n",
        "  \n",
        "  #학습하고 평가하기\n",
        "  clf.fit(x_train, y_train)\n",
        "  y_pred = clf.predict(x_test)\n",
        "  print(name, \"의 정답률 = \" , accuracy_score(y_test, y_pred))"
      ],
      "execution_count": 0,
      "outputs": [
        {
          "output_type": "stream",
          "text": [
            "AdaBoostClassifier 의 정답률 =  0.9\n",
            "BaggingClassifier 의 정답률 =  0.9\n",
            "BernoulliNB 의 정답률 =  0.23333333333333334\n",
            "CalibratedClassifierCV 의 정답률 =  0.9\n",
            "ComplementNB 의 정답률 =  0.7666666666666667\n",
            "DecisionTreeClassifier 의 정답률 =  0.9\n",
            "ExtraTreeClassifier 의 정답률 =  0.9\n",
            "ExtraTreesClassifier 의 정답률 =  0.9333333333333333\n",
            "GaussianNB 의 정답률 =  0.9333333333333333\n",
            "GaussianProcessClassifier 의 정답률 =  0.9\n",
            "GradientBoostingClassifier 의 정답률 =  0.9\n",
            "KNeighborsClassifier 의 정답률 =  0.9333333333333333\n",
            "LabelPropagation 의 정답률 =  0.9666666666666667\n",
            "LabelSpreading 의 정답률 =  0.9666666666666667\n",
            "LinearDiscriminantAnalysis 의 정답률 =  1.0\n",
            "LinearSVC 의 정답률 =  0.9666666666666667\n",
            "LogisticRegression 의 정답률 =  0.9666666666666667\n",
            "LogisticRegressionCV 의 정답률 =  0.9666666666666667\n",
            "MLPClassifier 의 정답률 =  1.0\n",
            "MultinomialNB 의 정답률 =  0.5333333333333333\n",
            "NearestCentroid 의 정답률 =  0.9\n",
            "NuSVC 의 정답률 =  0.9\n",
            "PassiveAggressiveClassifier 의 정답률 =  0.5333333333333333\n",
            "Perceptron 의 정답률 =  0.6333333333333333\n",
            "QuadraticDiscriminantAnalysis 의 정답률 =  1.0\n",
            "RadiusNeighborsClassifier 의 정답률 =  0.9\n",
            "RandomForestClassifier 의 정답률 =  0.9\n",
            "RidgeClassifier 의 정답률 =  0.7333333333333333\n",
            "RidgeClassifierCV 의 정답률 =  0.7333333333333333\n",
            "SGDClassifier 의 정답률 =  0.7666666666666667\n",
            "SVC 의 정답률 =  0.9333333333333333\n"
          ],
          "name": "stdout"
        }
      ]
    },
    {
      "metadata": {
        "id": "VcJwTVgBB-bB",
        "colab_type": "code",
        "colab": {}
      },
      "cell_type": "code",
      "source": [
        ""
      ],
      "execution_count": 0,
      "outputs": []
    }
  ]
}