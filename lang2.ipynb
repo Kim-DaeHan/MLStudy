{
  "nbformat": 4,
  "nbformat_minor": 0,
  "metadata": {
    "colab": {
      "name": "lang2.ipynb",
      "version": "0.3.2",
      "provenance": [],
      "collapsed_sections": [],
      "include_colab_link": true
    },
    "kernelspec": {
      "name": "python3",
      "display_name": "Python 3"
    }
  },
  "cells": [
    {
      "cell_type": "markdown",
      "metadata": {
        "id": "view-in-github",
        "colab_type": "text"
      },
      "source": [
        "<a href=\"https://colab.research.google.com/github/KimJinSang/MLStudy/blob/master/lang2.ipynb\" target=\"_parent\"><img src=\"https://colab.research.google.com/assets/colab-badge.svg\" alt=\"Open In Colab\"/></a>"
      ]
    },
    {
      "cell_type": "code",
      "metadata": {
        "id": "HqRmjQSzB4Eh",
        "colab_type": "code",
        "colab": {}
      },
      "source": [
        "import numpy as np\n",
        "from sklearn.naive_bayes import GaussianNB\n",
        "from sklearn.metrics import accuracy_score\n",
        "from google.colab import auth\n",
        "from google.colab import drive\n",
        "import glob"
      ],
      "execution_count": 0,
      "outputs": []
    },
    {
      "cell_type": "code",
      "metadata": {
        "id": "sXmJ4k_-GmLa",
        "colab_type": "code",
        "outputId": "6d14e95b-ae92-4e2a-8517-0aa38028a2e0",
        "colab": {
          "base_uri": "https://localhost:8080/",
          "height": 125
        }
      },
      "source": [
        "auth.authenticate_user()\n",
        "drive.mount('/content/gdrive')"
      ],
      "execution_count": 2,
      "outputs": [
        {
          "output_type": "stream",
          "text": [
            "Go to this URL in a browser: https://accounts.google.com/o/oauth2/auth?client_id=947318989803-6bn6qk8qdgf4n4g3pfee6491hc0brc4i.apps.googleusercontent.com&redirect_uri=urn%3Aietf%3Awg%3Aoauth%3A2.0%3Aoob&scope=email%20https%3A%2F%2Fwww.googleapis.com%2Fauth%2Fdocs.test%20https%3A%2F%2Fwww.googleapis.com%2Fauth%2Fdrive%20https%3A%2F%2Fwww.googleapis.com%2Fauth%2Fdrive.photos.readonly%20https%3A%2F%2Fwww.googleapis.com%2Fauth%2Fpeopleapi.readonly&response_type=code\n",
            "\n",
            "Enter your authorization code:\n",
            "··········\n",
            "Mounted at /content/gdrive\n"
          ],
          "name": "stdout"
        }
      ]
    },
    {
      "cell_type": "code",
      "metadata": {
        "id": "BJh61mGlCPxO",
        "colab_type": "code",
        "outputId": "dec40e28-22a7-4746-937b-3849ad66c53c",
        "colab": {
          "base_uri": "https://localhost:8080/",
          "height": 34
        }
      },
      "source": [
        "#Unicode 코드 포인트로 출현 빈도 판정하기\n",
        "def count_codePoint(str):\n",
        "  #Unicode 코드 포인트를 저장할 배열 준비하기\n",
        "  counter = np.zeros(65535)\n",
        "  \n",
        "  for i in range(len(str)):\n",
        "    #각 문자를 Unicode 코드 포인트로 변환하기\n",
        "    code_point = ord(str[i])\n",
        "    if code_point > 65535 :\n",
        "      continue\n",
        "    #출현횟수 세기\n",
        "    counter[code_point] += 1\n",
        "    \n",
        "  #각 요소를 문자 수로 나눠 정규화하기\n",
        "  counter = counter/len(str)\n",
        "  return counter\n",
        "\n",
        "#학습 전용 데이터 준비하기\n",
        "index = 0\n",
        "x_train = []\n",
        "y_train = []\n",
        "for file in glob.glob('gdrive/My Drive/TensorFlow/PythonBook/chapter4/train/*.txt'):\n",
        "\n",
        "  #언어 정보를 추출하고 레이블로 지정하기\n",
        "  y_train.append(file[53:55])\n",
        " \n",
        "  #파일 내부의 문자열을 모두 추출한 뒤 빈도 배열로 변환한 뒤 입력 데이터로 사용하기\n",
        "  file_str = ''\n",
        "  for line in open(file, 'r'):\n",
        "    file_str = file_str + line\n",
        "  x_train.append(count_codePoint(file_str))\n",
        "\n",
        "\n",
        "#학습하기\n",
        "clf = GaussianNB()\n",
        "clf.fit(x_train, y_train)"
      ],
      "execution_count": 3,
      "outputs": [
        {
          "output_type": "execute_result",
          "data": {
            "text/plain": [
              "GaussianNB(priors=None, var_smoothing=1e-09)"
            ]
          },
          "metadata": {
            "tags": []
          },
          "execution_count": 3
        }
      ]
    },
    {
      "cell_type": "code",
      "metadata": {
        "id": "ViGm0TyzMeUX",
        "colab_type": "code",
        "outputId": "7c961d5d-7606-409b-e428-1844b99d3056",
        "colab": {
          "base_uri": "https://localhost:8080/",
          "height": 52
        }
      },
      "source": [
        "#평가 데이터 준비하기\n",
        "index = 0\n",
        "x_test = []\n",
        "y_test = []\n",
        "for file in glob.glob('gdrive/My Drive/TensorFlow/PythonBook/chapter4/test/*.txt'):\n",
        "  #언어 정보를 추출하고 레이블로 지정하기\n",
        "  y_test.append(file[52:54])\n",
        "  \n",
        "  # 파일 내부의 문자열을 모두 추출한 후 빈도 배열로 변환한 뒤 입력 데이터로 사용하기\n",
        "  file_str = ''\n",
        "  for line in open(file, 'r'):\n",
        "    file_str = file_str + line\n",
        "  x_test.append(count_codePoint(file_str))\n",
        "  \n",
        "#평가하기\n",
        "y_pred = clf.predict(x_test)\n",
        "print(y_pred)\n",
        "print(\"정답률 = \" , accuracy_score(y_test, y_pred))"
      ],
      "execution_count": 4,
      "outputs": [
        {
          "output_type": "stream",
          "text": [
            "['de' 'es' 'en']\n",
            "정답률 =  1.0\n"
          ],
          "name": "stdout"
        }
      ]
    },
    {
      "cell_type": "code",
      "metadata": {
        "id": "lRFIv3A7QKmQ",
        "colab_type": "code",
        "colab": {}
      },
      "source": [
        ""
      ],
      "execution_count": 0,
      "outputs": []
    }
  ]
}