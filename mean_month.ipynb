{
  "nbformat": 4,
  "nbformat_minor": 0,
  "metadata": {
    "colab": {
      "name": "mean-month.ipynb",
      "version": "0.3.2",
      "provenance": [],
      "collapsed_sections": [],
      "include_colab_link": true
    },
    "kernelspec": {
      "name": "python3",
      "display_name": "Python 3"
    }
  },
  "cells": [
    {
      "cell_type": "markdown",
      "metadata": {
        "id": "view-in-github",
        "colab_type": "text"
      },
      "source": [
        "<a href=\"https://colab.research.google.com/github/KimJinSang/TensorflowStudy/blob/master/mean_month.ipynb\" target=\"_parent\"><img src=\"https://colab.research.google.com/assets/colab-badge.svg\" alt=\"Open In Colab\"/></a>"
      ]
    },
    {
      "metadata": {
        "id": "-qXpu9L52D2z",
        "colab_type": "code",
        "outputId": "39ba89ae-9a12-4228-98e7-41b5a0360c39",
        "colab": {
          "base_uri": "https://localhost:8080/",
          "height": 530
        }
      },
      "cell_type": "code",
      "source": [
        "import matplotlib.pyplot as plt\n",
        "import pandas as pd\n",
        "#CSV 파일 읽어들이기\n",
        "df = pd.read_csv(\"tem10y.csv\", encoding=\"utf-8\")\n",
        "#월별 평균 구하기\n",
        "g = df.groupby(['월'])['기온']\n",
        "gg = g.sum() / g.count()\n",
        "#결과출력하기\n",
        "print(gg)\n",
        "gg.plot()\n",
        "plt.savefig(\"tem-month-avg.png\")\n",
        "plt.show()"
      ],
      "execution_count": 0,
      "outputs": [
        {
          "output_type": "stream",
          "text": [
            "월\n",
            "1      5.996481\n",
            "2      6.598714\n",
            "3     10.017009\n",
            "4     14.481515\n",
            "5     19.607918\n",
            "6     22.544848\n",
            "7     26.422287\n",
            "8     27.887097\n",
            "9     24.360303\n",
            "10    19.155132\n",
            "11    13.484545\n",
            "12     8.653079\n",
            "Name: 기온, dtype: float64\n"
          ],
          "name": "stdout"
        },
        {
          "output_type": "display_data",
          "data": {
            "image/png": "[encoded data removed]",
            "text/plain": [
              "<Figure size 432x288 with 1 Axes>"
            ]
          },
          "metadata": {
            "tags": []
          }
        }
      ]
    },
    {
      "metadata": {
        "id": "OhCO1j2n2wXt",
        "colab_type": "code",
        "colab": {}
      },
      "cell_type": "code",
      "source": [
        ""
      ],
      "execution_count": 0,
      "outputs": []
    }
  ]
}