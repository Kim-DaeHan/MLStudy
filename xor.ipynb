{
  "nbformat": 4,
  "nbformat_minor": 0,
  "metadata": {
    "colab": {
      "name": "xor.ipynb",
      "version": "0.3.2",
      "provenance": [],
      "collapsed_sections": [],
      "include_colab_link": true
    },
    "kernelspec": {
      "name": "python3",
      "display_name": "Python 3"
    }
  },
  "cells": [
    {
      "cell_type": "markdown",
      "metadata": {
        "id": "view-in-github",
        "colab_type": "text"
      },
      "source": [
        "<a href=\"https://colab.research.google.com/github/KimJinSang/MLStudy/blob/master/xor.ipynb\" target=\"_parent\"><img src=\"https://colab.research.google.com/assets/colab-badge.svg\" alt=\"Open In Colab\"/></a>"
      ]
    },
    {
      "metadata": {
        "id": "4GX7IdtRVLhV",
        "colab_type": "code",
        "colab": {}
      },
      "cell_type": "code",
      "source": [
        "#라이브러리 읽어 들이기\n",
        "from sklearn.neighbors import KNeighborsClassifier\n",
        "from sklearn.metrics import accuracy_score"
      ],
      "execution_count": 0,
      "outputs": []
    },
    {
      "metadata": {
        "id": "l0wbrLJsVVWk",
        "colab_type": "code",
        "colab": {}
      },
      "cell_type": "code",
      "source": [
        "#학습 전용 데이터와 결과 준비하기\n",
        "#X , Y\n",
        "learn_data = [[0,0], [1,0], [0,1], [1,1]]\n",
        "#X xor Y\n",
        "learn_label = [0, 1, 1, 0] # (*) xor 전용 레이블로 변경"
      ],
      "execution_count": 0,
      "outputs": []
    },
    {
      "metadata": {
        "id": "a6hc6jm-Vi7K",
        "colab_type": "code",
        "colab": {}
      },
      "cell_type": "code",
      "source": [
        "#알고리즘 지정하기(LinearSVC)\n",
        "clf = KNeighborsClassifier(n_neighbors= 1)"
      ],
      "execution_count": 0,
      "outputs": []
    },
    {
      "metadata": {
        "id": "jO0NXQ7NVpjV",
        "colab_type": "code",
        "outputId": "9f21f014-2d5d-4af9-e98c-1e53d13db689",
        "colab": {
          "base_uri": "https://localhost:8080/",
          "height": 70
        }
      },
      "cell_type": "code",
      "source": [
        "#학습 전용 데이터와 결과 학습하기\n",
        "clf.fit(learn_data, learn_label)"
      ],
      "execution_count": 0,
      "outputs": [
        {
          "output_type": "execute_result",
          "data": {
            "text/plain": [
              "KNeighborsClassifier(algorithm='auto', leaf_size=30, metric='minkowski',\n",
              "           metric_params=None, n_jobs=None, n_neighbors=1, p=2,\n",
              "           weights='uniform')"
            ]
          },
          "metadata": {
            "tags": []
          },
          "execution_count": 10
        }
      ]
    },
    {
      "metadata": {
        "id": "x_qaHnXQVvUL",
        "colab_type": "code",
        "colab": {}
      },
      "cell_type": "code",
      "source": [
        "#테스트 데이터로 예측하기\n",
        "test_data = [[0,0], [1,0], [0,1], [1,1]]\n",
        "test_label = clf.predict(test_data)"
      ],
      "execution_count": 0,
      "outputs": []
    },
    {
      "metadata": {
        "id": "9H4LDdStV4qf",
        "colab_type": "code",
        "outputId": "170c1d3d-2646-45d4-b0da-9435171ce657",
        "colab": {
          "base_uri": "https://localhost:8080/",
          "height": 52
        }
      },
      "cell_type": "code",
      "source": [
        "#테스트 결과 평가하기\n",
        "print(test_data , \"의 예측 결과 : \" , test_label)\n",
        "print(\"정답률 = \" , accuracy_score([0, 1, 1, 0], test_label)) # (*) xor 전용 레이블로 변경"
      ],
      "execution_count": 0,
      "outputs": [
        {
          "output_type": "stream",
          "text": [
            "[[0, 0], [1, 0], [0, 1], [1, 1]] 의 예측 결과 :  [0 1 1 0]\n",
            "정답률 =  1.0\n"
          ],
          "name": "stdout"
        }
      ]
    },
    {
      "metadata": {
        "id": "OVCqUq8OWLrj",
        "colab_type": "code",
        "colab": {}
      },
      "cell_type": "code",
      "source": [
        ""
      ],
      "execution_count": 0,
      "outputs": []
    }
  ]
}