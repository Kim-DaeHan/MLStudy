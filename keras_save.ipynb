{
  "nbformat": 4,
  "nbformat_minor": 0,
  "metadata": {
    "colab": {
      "name": "keras_save.ipynb",
      "version": "0.3.2",
      "provenance": [],
      "collapsed_sections": [],
      "include_colab_link": true
    },
    "kernelspec": {
      "name": "python3",
      "display_name": "Python 3"
    }
  },
  "cells": [
    {
      "cell_type": "markdown",
      "metadata": {
        "id": "view-in-github",
        "colab_type": "text"
      },
      "source": [
        "<a href=\"https://colab.research.google.com/github/KimJinSang/MLStudy/blob/master/keras_save.ipynb\" target=\"_parent\"><img src=\"https://colab.research.google.com/assets/colab-badge.svg\" alt=\"Open In Colab\"/></a>"
      ]
    },
    {
      "cell_type": "code",
      "metadata": {
        "id": "HLKoarAK98Hs",
        "colab_type": "code",
        "colab": {
          "base_uri": "https://localhost:8080/",
          "height": 34
        },
        "outputId": "a5ef5d98-fb01-4868-edc5-c1ddecf647dd"
      },
      "source": [
        "from sklearn import datasets\n",
        "import keras\n",
        "from keras.models import Sequential\n",
        "from keras.layers import Dense, Dropout\n",
        "from keras.utils.np_utils import to_categorical"
      ],
      "execution_count": 1,
      "outputs": [
        {
          "output_type": "stream",
          "text": [
            "Using TensorFlow backend.\n"
          ],
          "name": "stderr"
        }
      ]
    },
    {
      "cell_type": "code",
      "metadata": {
        "id": "iizn6zsC-oZx",
        "colab_type": "code",
        "colab": {}
      },
      "source": [
        "#붓꽃 데이터 읽어 들이기\n",
        "iris = datasets.load_iris()\n",
        "in_size = 4\n",
        "nb_classes = 3\n",
        "#레이블 데이터를 One-hot 벡터로 변환하기\n",
        "x = iris.data\n",
        "y = to_categorical(iris.target, nb_classes)"
      ],
      "execution_count": 0,
      "outputs": []
    },
    {
      "cell_type": "code",
      "metadata": {
        "id": "ghsor2wV_FBj",
        "colab_type": "code",
        "colab": {
          "base_uri": "https://localhost:8080/",
          "height": 142
        },
        "outputId": "1cbff984-aedc-4557-f7cb-2df94482ed9c"
      },
      "source": [
        "#모델 정의하기\n",
        "model = Sequential()\n",
        "model.add(Dense(512, activation='relu', input_shape=(in_size,)))\n",
        "model.add(Dense(512, activation='relu'))\n",
        "model.add(Dropout(0.2))\n",
        "model.add(Dense(nb_classes, activation='softmax'))"
      ],
      "execution_count": 3,
      "outputs": [
        {
          "output_type": "stream",
          "text": [
            "WARNING:tensorflow:From /usr/local/lib/python3.6/dist-packages/tensorflow/python/framework/op_def_library.py:263: colocate_with (from tensorflow.python.framework.ops) is deprecated and will be removed in a future version.\n",
            "Instructions for updating:\n",
            "Colocations handled automatically by placer.\n",
            "WARNING:tensorflow:From /usr/local/lib/python3.6/dist-packages/keras/backend/tensorflow_backend.py:3445: calling dropout (from tensorflow.python.ops.nn_ops) with keep_prob is deprecated and will be removed in a future version.\n",
            "Instructions for updating:\n",
            "Please use `rate` instead of `keep_prob`. Rate should be set to `rate = 1 - keep_prob`.\n"
          ],
          "name": "stdout"
        }
      ]
    },
    {
      "cell_type": "code",
      "metadata": {
        "id": "NOo0HStH_iJ4",
        "colab_type": "code",
        "colab": {
          "base_uri": "https://localhost:8080/",
          "height": 1867
        },
        "outputId": "6dc73ce1-66f6-42c7-c613-7da689ac41d1"
      },
      "source": [
        "#컴파일하기\n",
        "model.compile(loss='categorical_crossentropy', optimizer='adam',metrics=['accuracy'])\n",
        "#학습 실행하기\n",
        "model.fit(x,y, batch_size=20, epochs=50)"
      ],
      "execution_count": 4,
      "outputs": [
        {
          "output_type": "stream",
          "text": [
            "WARNING:tensorflow:From /usr/local/lib/python3.6/dist-packages/tensorflow/python/ops/math_ops.py:3066: to_int32 (from tensorflow.python.ops.math_ops) is deprecated and will be removed in a future version.\n",
            "Instructions for updating:\n",
            "Use tf.cast instead.\n",
            "Epoch 1/50\n",
            "150/150 [==============================] - 1s 5ms/step - loss: 0.9222 - acc: 0.4933\n",
            "Epoch 2/50\n",
            "150/150 [==============================] - 0s 281us/step - loss: 0.5235 - acc: 0.8867\n",
            "Epoch 3/50\n",
            "150/150 [==============================] - 0s 282us/step - loss: 0.4070 - acc: 0.8133\n",
            "Epoch 4/50\n",
            "150/150 [==============================] - 0s 277us/step - loss: 0.3485 - acc: 0.8267\n",
            "Epoch 5/50\n",
            "150/150 [==============================] - 0s 282us/step - loss: 0.2692 - acc: 0.8933\n",
            "Epoch 6/50\n",
            "150/150 [==============================] - 0s 294us/step - loss: 0.2280 - acc: 0.9267\n",
            "Epoch 7/50\n",
            "150/150 [==============================] - 0s 281us/step - loss: 0.1910 - acc: 0.9467\n",
            "Epoch 8/50\n",
            "150/150 [==============================] - 0s 285us/step - loss: 0.1785 - acc: 0.9333\n",
            "Epoch 9/50\n",
            "150/150 [==============================] - 0s 272us/step - loss: 0.1468 - acc: 0.9400\n",
            "Epoch 10/50\n",
            "150/150 [==============================] - 0s 275us/step - loss: 0.1459 - acc: 0.9467\n",
            "Epoch 11/50\n",
            "150/150 [==============================] - 0s 258us/step - loss: 0.1688 - acc: 0.9067\n",
            "Epoch 12/50\n",
            "150/150 [==============================] - 0s 306us/step - loss: 0.1509 - acc: 0.9400\n",
            "Epoch 13/50\n",
            "150/150 [==============================] - 0s 288us/step - loss: 0.1135 - acc: 0.9667\n",
            "Epoch 14/50\n",
            "150/150 [==============================] - 0s 287us/step - loss: 0.0974 - acc: 0.9733\n",
            "Epoch 15/50\n",
            "150/150 [==============================] - 0s 278us/step - loss: 0.0998 - acc: 0.9733\n",
            "Epoch 16/50\n",
            "150/150 [==============================] - 0s 274us/step - loss: 0.1023 - acc: 0.9533\n",
            "Epoch 17/50\n",
            "150/150 [==============================] - 0s 291us/step - loss: 0.0807 - acc: 0.9800\n",
            "Epoch 18/50\n",
            "150/150 [==============================] - 0s 286us/step - loss: 0.1095 - acc: 0.9667\n",
            "Epoch 19/50\n",
            "150/150 [==============================] - 0s 274us/step - loss: 0.1006 - acc: 0.9733\n",
            "Epoch 20/50\n",
            "150/150 [==============================] - 0s 264us/step - loss: 0.0898 - acc: 0.9667\n",
            "Epoch 21/50\n",
            "150/150 [==============================] - 0s 270us/step - loss: 0.0978 - acc: 0.9533\n",
            "Epoch 22/50\n",
            "150/150 [==============================] - 0s 266us/step - loss: 0.1287 - acc: 0.9533\n",
            "Epoch 23/50\n",
            "150/150 [==============================] - 0s 266us/step - loss: 0.0991 - acc: 0.9533\n",
            "Epoch 24/50\n",
            "150/150 [==============================] - 0s 286us/step - loss: 0.1036 - acc: 0.9467\n",
            "Epoch 25/50\n",
            "150/150 [==============================] - 0s 268us/step - loss: 0.1659 - acc: 0.9333\n",
            "Epoch 26/50\n",
            "150/150 [==============================] - 0s 275us/step - loss: 0.1370 - acc: 0.9467\n",
            "Epoch 27/50\n",
            "150/150 [==============================] - 0s 277us/step - loss: 0.0704 - acc: 0.9733\n",
            "Epoch 28/50\n",
            "150/150 [==============================] - 0s 275us/step - loss: 0.1273 - acc: 0.9467\n",
            "Epoch 29/50\n",
            "150/150 [==============================] - 0s 279us/step - loss: 0.0684 - acc: 0.9867\n",
            "Epoch 30/50\n",
            "150/150 [==============================] - 0s 278us/step - loss: 0.0904 - acc: 0.9600\n",
            "Epoch 31/50\n",
            "150/150 [==============================] - 0s 288us/step - loss: 0.0708 - acc: 0.9667\n",
            "Epoch 32/50\n",
            "150/150 [==============================] - 0s 277us/step - loss: 0.1055 - acc: 0.9467\n",
            "Epoch 33/50\n",
            "150/150 [==============================] - 0s 279us/step - loss: 0.0693 - acc: 0.9867\n",
            "Epoch 34/50\n",
            "150/150 [==============================] - 0s 270us/step - loss: 0.0867 - acc: 0.9800\n",
            "Epoch 35/50\n",
            "150/150 [==============================] - 0s 269us/step - loss: 0.0924 - acc: 0.9600\n",
            "Epoch 36/50\n",
            "150/150 [==============================] - 0s 269us/step - loss: 0.0659 - acc: 0.9800\n",
            "Epoch 37/50\n",
            "150/150 [==============================] - 0s 279us/step - loss: 0.0737 - acc: 0.9667\n",
            "Epoch 38/50\n",
            "150/150 [==============================] - 0s 286us/step - loss: 0.0689 - acc: 0.9867\n",
            "Epoch 39/50\n",
            "150/150 [==============================] - 0s 272us/step - loss: 0.0785 - acc: 0.9667\n",
            "Epoch 40/50\n",
            "150/150 [==============================] - 0s 274us/step - loss: 0.0677 - acc: 0.9733\n",
            "Epoch 41/50\n",
            "150/150 [==============================] - 0s 269us/step - loss: 0.0748 - acc: 0.9800\n",
            "Epoch 42/50\n",
            "150/150 [==============================] - 0s 280us/step - loss: 0.1014 - acc: 0.9533\n",
            "Epoch 43/50\n",
            "150/150 [==============================] - 0s 278us/step - loss: 0.1371 - acc: 0.9267\n",
            "Epoch 44/50\n",
            "150/150 [==============================] - 0s 291us/step - loss: 0.0830 - acc: 0.9733\n",
            "Epoch 45/50\n",
            "150/150 [==============================] - 0s 297us/step - loss: 0.0745 - acc: 0.9733\n",
            "Epoch 46/50\n",
            "150/150 [==============================] - 0s 259us/step - loss: 0.0805 - acc: 0.9667\n",
            "Epoch 47/50\n",
            "150/150 [==============================] - 0s 270us/step - loss: 0.0844 - acc: 0.9733\n",
            "Epoch 48/50\n",
            "150/150 [==============================] - 0s 268us/step - loss: 0.0655 - acc: 0.9733\n",
            "Epoch 49/50\n",
            "150/150 [==============================] - 0s 280us/step - loss: 0.0721 - acc: 0.9800\n",
            "Epoch 50/50\n",
            "150/150 [==============================] - 0s 269us/step - loss: 0.0714 - acc: 0.9800\n"
          ],
          "name": "stdout"
        },
        {
          "output_type": "execute_result",
          "data": {
            "text/plain": [
              "<keras.callbacks.History at 0x7f112eefa0b8>"
            ]
          },
          "metadata": {
            "tags": []
          },
          "execution_count": 4
        }
      ]
    },
    {
      "cell_type": "code",
      "metadata": {
        "id": "-VNhGMhu_4ID",
        "colab_type": "code",
        "colab": {}
      },
      "source": [
        "#모델 저장하기\n",
        "model.save('iris_model.h5')\n",
        "#학습한 가중치 데이터 저장하기\n",
        "model.save_weights('iris_weight.h5')"
      ],
      "execution_count": 0,
      "outputs": []
    },
    {
      "cell_type": "code",
      "metadata": {
        "id": "1xs7NykFAFBe",
        "colab_type": "code",
        "colab": {}
      },
      "source": [
        ""
      ],
      "execution_count": 0,
      "outputs": []
    }
  ]
}