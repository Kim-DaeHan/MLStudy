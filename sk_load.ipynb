{
  "nbformat": 4,
  "nbformat_minor": 0,
  "metadata": {
    "colab": {
      "name": "sk_load.ipynb",
      "version": "0.3.2",
      "provenance": [],
      "include_colab_link": true
    },
    "kernelspec": {
      "name": "python3",
      "display_name": "Python 3"
    }
  },
  "cells": [
    {
      "cell_type": "markdown",
      "metadata": {
        "id": "view-in-github",
        "colab_type": "text"
      },
      "source": [
        "<a href=\"https://colab.research.google.com/github/KimJinSang/MLStudy/blob/master/sk_load.ipynb\" target=\"_parent\"><img src=\"https://colab.research.google.com/assets/colab-badge.svg\" alt=\"Open In Colab\"/></a>"
      ]
    },
    {
      "cell_type": "code",
      "metadata": {
        "id": "iyyKFE7n8fLd",
        "colab_type": "code",
        "colab": {}
      },
      "source": [
        "from sklearn import datasets, svm\n",
        "from sklearn.externals import joblib\n",
        "from sklearn.metrics import accuracy_score"
      ],
      "execution_count": 0,
      "outputs": []
    },
    {
      "cell_type": "code",
      "metadata": {
        "id": "hzUY69Th9KQt",
        "colab_type": "code",
        "colab": {}
      },
      "source": [
        "#이전에 저장한 학습된 데이터 읽어 들이기\n",
        "clf = joblib.load('iris.pkl')"
      ],
      "execution_count": 0,
      "outputs": []
    },
    {
      "cell_type": "code",
      "metadata": {
        "id": "PmwY1G3M9SDr",
        "colab_type": "code",
        "colab": {
          "base_uri": "https://localhost:8080/",
          "height": 34
        },
        "outputId": "8cee6e9f-58ee-4ec3-faea-e0d6893874f0"
      },
      "source": [
        "#붓꽃 데이터 읽어 들이기\n",
        "iris = datasets.load_iris()\n",
        "#예측하기\n",
        "pre = clf.predict(iris.data)\n",
        "#정답률 확인하기\n",
        "print(accuracy_score(iris.target, pre))"
      ],
      "execution_count": 3,
      "outputs": [
        {
          "output_type": "stream",
          "text": [
            "0.9866666666666667\n"
          ],
          "name": "stdout"
        }
      ]
    },
    {
      "cell_type": "code",
      "metadata": {
        "id": "fbeiqjiL9fU4",
        "colab_type": "code",
        "colab": {}
      },
      "source": [
        ""
      ],
      "execution_count": 0,
      "outputs": []
    }
  ]
}