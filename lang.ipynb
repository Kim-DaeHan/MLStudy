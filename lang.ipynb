{
  "nbformat": 4,
  "nbformat_minor": 0,
  "metadata": {
    "colab": {
      "name": "lang.ipynb",
      "version": "0.3.2",
      "provenance": [],
      "collapsed_sections": [],
      "include_colab_link": true
    },
    "kernelspec": {
      "name": "python3",
      "display_name": "Python 3"
    }
  },
  "cells": [
    {
      "cell_type": "markdown",
      "metadata": {
        "id": "view-in-github",
        "colab_type": "text"
      },
      "source": [
        "<a href=\"https://colab.research.google.com/github/KimJinSang/MLStudy/blob/master/lang.ipynb\" target=\"_parent\"><img src=\"https://colab.research.google.com/assets/colab-badge.svg\" alt=\"Open In Colab\"/></a>"
      ]
    },
    {
      "cell_type": "code",
      "metadata": {
        "id": "50eBqYD25NeF",
        "colab_type": "code",
        "colab": {}
      },
      "source": [
        "import numpy as np\n",
        "from sklearn.naive_bayes import GaussianNB\n",
        "from sklearn.metrics import accuracy_score"
      ],
      "execution_count": 0,
      "outputs": []
    },
    {
      "cell_type": "code",
      "metadata": {
        "id": "qE3kxBIz94iW",
        "colab_type": "code",
        "colab": {
          "base_uri": "https://localhost:8080/",
          "height": 34
        },
        "outputId": "8bfa85f0-63aa-48c8-c427-a59c1151ca36"
      },
      "source": [
        "#Unicode 코드 포인트로 출현 빈도 판정하기\n",
        "def count_codePoint(str):\n",
        "  #Unicode 코드 포인트를 저장할 배열 준비하기\n",
        "  counter = np.zeros(65535)\n",
        "  \n",
        "  for i in range(len(str)):\n",
        "    #각 문자를 Unicode 코드 포인트로 변환하기\n",
        "    code_point = ord(str[i])\n",
        "    if code_point > 65535 :\n",
        "      continue\n",
        "    #출현횟수 세기\n",
        "    counter[code_point] += 1\n",
        "    \n",
        "  #각 요소를 문자 수로 나눠 정규화하기\n",
        "  counter = counter/len(str)\n",
        "  return counter\n",
        "\n",
        "#학습 전용 데이터 준비하기\n",
        "ko_str = '이것은 한국어 문장입니다.'\n",
        "ja_str = 'これは日本の文章です.'\n",
        "en_str = 'This is English Sentences.'\n",
        "\n",
        "x_train = [count_codePoint(ko_str), count_codePoint(ja_str), count_codePoint(en_str)]\n",
        "y_train = ['ko', 'ja', 'en']\n",
        "\n",
        "#학습하기\n",
        "clf = GaussianNB()\n",
        "clf.fit(x_train, y_train)"
      ],
      "execution_count": 2,
      "outputs": [
        {
          "output_type": "execute_result",
          "data": {
            "text/plain": [
              "GaussianNB(priors=None, var_smoothing=1e-09)"
            ]
          },
          "metadata": {
            "tags": []
          },
          "execution_count": 2
        }
      ]
    },
    {
      "cell_type": "code",
      "metadata": {
        "id": "xpn5IVJ2_NnT",
        "colab_type": "code",
        "colab": {}
      },
      "source": [
        "#평가 전용 데이터 준비하기\n",
        "ko_test_str = '안녕하세요.'\n",
        "ja_test_str = 'こんにちは.'\n",
        "en_test_str = 'Hello'\n",
        "\n",
        "x_test = [count_codePoint(en_test_str), count_codePoint(ja_test_str), count_codePoint(ko_test_str)]\n",
        "y_test = ['en', 'ja', 'ko']"
      ],
      "execution_count": 0,
      "outputs": []
    },
    {
      "cell_type": "code",
      "metadata": {
        "id": "3hqXNmys_wmL",
        "colab_type": "code",
        "colab": {
          "base_uri": "https://localhost:8080/",
          "height": 52
        },
        "outputId": "0e05a364-dd88-43a6-c48d-5ee783a4212e"
      },
      "source": [
        "#평가하기\n",
        "y_pred = clf.predict(x_test)\n",
        "print(y_pred)\n",
        "print(\"정답률 = \", accuracy_score(y_test, y_pred))"
      ],
      "execution_count": 4,
      "outputs": [
        {
          "output_type": "stream",
          "text": [
            "['en' 'ja' 'ko']\n",
            "정답률 =  1.0\n"
          ],
          "name": "stdout"
        }
      ]
    },
    {
      "cell_type": "code",
      "metadata": {
        "id": "e2bO_kDK_9Pb",
        "colab_type": "code",
        "colab": {}
      },
      "source": [
        ""
      ],
      "execution_count": 0,
      "outputs": []
    }
  ]
}